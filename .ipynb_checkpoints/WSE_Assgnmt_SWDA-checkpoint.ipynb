{
 "cells": [
  {
   "cell_type": "code",
   "execution_count": 1,
   "metadata": {
    "ExecuteTime": {
     "end_time": "2020-11-21T12:42:41.055897Z",
     "start_time": "2020-11-21T12:42:39.207980Z"
    }
   },
   "outputs": [],
   "source": [
    "from tweepy.streaming import StreamListener\n",
    "from tweepy import OAuthHandler\n",
    "from tweepy import Stream\n",
    "import pandas as pd\n",
    "import numpy as np\n",
    "import json\n",
    "import time"
   ]
  },
  {
   "cell_type": "code",
   "execution_count": 2,
   "metadata": {
    "ExecuteTime": {
     "end_time": "2020-11-21T12:42:44.658051Z",
     "start_time": "2020-11-21T12:42:44.642101Z"
    }
   },
   "outputs": [],
   "source": [
    "consumer_key=\"8PL5bswXqvFSvwFYEfl2DVZg4\"\n",
    "consumer_secret=\"cFxJVx7XnJpIR6TcY5qIjU47pWJLRnPKcN0R5go6tdCnj7y4kM\"\n",
    "access_token=\"1204298096617783299-L4gcd0w73lKbI3nSD448WP1SQKj2WC\"\n",
    "access_token_secret=\"5MMsHjmplpniCqiLpS5kgG7BzJrL1nHijBkXNyTXvXi8u\""
   ]
  },
  {
   "cell_type": "code",
   "execution_count": 3,
   "metadata": {
    "ExecuteTime": {
     "end_time": "2020-11-21T12:42:45.304884Z",
     "start_time": "2020-11-21T12:42:45.288932Z"
    }
   },
   "outputs": [],
   "source": [
    "auth = OAuthHandler(consumer_key, consumer_secret)\n",
    "auth.set_access_token(access_token, access_token_secret)"
   ]
  },
  {
   "cell_type": "markdown",
   "metadata": {},
   "source": [
    "## Q1.2"
   ]
  },
  {
   "cell_type": "code",
   "execution_count": 4,
   "metadata": {
    "ExecuteTime": {
     "end_time": "2020-11-20T21:32:34.476798Z",
     "start_time": "2020-11-20T21:32:34.460806Z"
    }
   },
   "outputs": [],
   "source": [
    "class MyStreamListener(StreamListener):\n",
    "    def __init__(self, time_limit):\n",
    "        self.start_time = time.time()\n",
    "        self.limit = time_limit\n",
    "        self.saveFile = open('first.json', 'a')\n",
    "        super(MyStreamListener, self).__init__()\n",
    "\n",
    "    def on_data(self, data):\n",
    "        if (time.time() - self.start_time) < self.limit:\n",
    "            self.saveFile.write(data)\n",
    "            self.saveFile.write('\\n')\n",
    "            return True\n",
    "        else:\n",
    "            self.saveFile.close()\n",
    "            return False"
   ]
  },
  {
   "cell_type": "code",
   "execution_count": 5,
   "metadata": {
    "ExecuteTime": {
     "end_time": "2020-11-20T21:32:35.348995Z",
     "start_time": "2020-11-20T21:32:35.333008Z"
    }
   },
   "outputs": [],
   "source": [
    "l = MyStreamListener(time_limit=600)"
   ]
  },
  {
   "cell_type": "code",
   "execution_count": 6,
   "metadata": {
    "ExecuteTime": {
     "end_time": "2020-11-20T21:42:35.381487Z",
     "start_time": "2020-11-20T21:32:36.709060Z"
    }
   },
   "outputs": [],
   "source": [
    "stream = Stream(auth, l)\n",
    "stream.sample()"
   ]
  },
  {
   "cell_type": "code",
   "execution_count": null,
   "metadata": {
    "ExecuteTime": {
     "end_time": "2020-11-20T21:58:12.424212Z",
     "start_time": "2020-11-20T21:58:11.511567Z"
    }
   },
   "outputs": [],
   "source": [
    "with open('C:/Users/Anuj/Desktop/Work/TU Delft/Web Sci & Engg/assgnmt-2/first.json') as f:\n",
    "    twt = json.load(f)"
   ]
  },
  {
   "cell_type": "markdown",
   "metadata": {},
   "source": [
    "## Q1.3"
   ]
  },
  {
   "cell_type": "code",
   "execution_count": 9,
   "metadata": {
    "ExecuteTime": {
     "end_time": "2020-11-21T12:45:54.287493Z",
     "start_time": "2020-11-21T12:45:54.271495Z"
    }
   },
   "outputs": [],
   "source": [
    "class MyStreamListener(StreamListener):\n",
    "    def __init__(self, time_limit):\n",
    "        self.start_time = time.time()\n",
    "        self.limit = time_limit\n",
    "        self.count = 0\n",
    "        super(MyStreamListener, self).__init__()\n",
    "\n",
    "    def on_data(self, data):\n",
    "        if (time.time() - self.start_time) < self.limit:\n",
    "            self.count+=1\n",
    "            return True\n",
    "        else:\n",
    "            #self.saveFile.close()\n",
    "            return False\n",
    "        #return count"
   ]
  },
  {
   "cell_type": "code",
   "execution_count": 10,
   "metadata": {
    "ExecuteTime": {
     "end_time": "2020-11-21T12:45:55.497095Z",
     "start_time": "2020-11-21T12:45:55.489100Z"
    }
   },
   "outputs": [],
   "source": [
    "l = MyStreamListener(time_limit=20)"
   ]
  },
  {
   "cell_type": "code",
   "execution_count": 11,
   "metadata": {
    "ExecuteTime": {
     "end_time": "2020-11-21T12:46:25.344474Z",
     "start_time": "2020-11-21T12:45:57.099927Z"
    }
   },
   "outputs": [],
   "source": [
    "stream = Stream(auth, l)\n",
    "twt = stream.filter(locations=[4.61, 52.27, 5.07, 52.50])\n",
    "              #track=['covid', 'covid-19', 'corona', 'coronavirus', 'lockdown'])"
   ]
  },
  {
   "cell_type": "code",
   "execution_count": 12,
   "metadata": {
    "ExecuteTime": {
     "end_time": "2020-11-21T12:46:31.306118Z",
     "start_time": "2020-11-21T12:46:31.290135Z"
    }
   },
   "outputs": [],
   "source": [
    "with open('wtv.json', 'w') as f:\n",
    "        json.dump(twt,f,indent=1)"
   ]
  }
 ],
 "metadata": {
  "hide_input": false,
  "kernelspec": {
   "display_name": "Python 3",
   "language": "python",
   "name": "python3"
  },
  "language_info": {
   "codemirror_mode": {
    "name": "ipython",
    "version": 3
   },
   "file_extension": ".py",
   "mimetype": "text/x-python",
   "name": "python",
   "nbconvert_exporter": "python",
   "pygments_lexer": "ipython3",
   "version": "3.6.6"
  },
  "toc": {
   "base_numbering": 1,
   "nav_menu": {},
   "number_sections": true,
   "sideBar": true,
   "skip_h1_title": false,
   "title_cell": "Table of Contents",
   "title_sidebar": "Contents",
   "toc_cell": false,
   "toc_position": {},
   "toc_section_display": true,
   "toc_window_display": false
  }
 },
 "nbformat": 4,
 "nbformat_minor": 2
}
